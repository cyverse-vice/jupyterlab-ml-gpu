{
 "cells": [
  {
   "cell_type": "code",
   "execution_count": null,
   "metadata": {},
   "outputs": [],
   "source": [
    "import os\n",
    "import sys\n",
    "import random\n",
    "\n",
    "import tensorflow as tf\n",
    "from masker import detect, fsave"
   ]
  },
  {
   "cell_type": "code",
   "execution_count": null,
   "metadata": {},
   "outputs": [],
   "source": [
    "IMAGE_PATH = \"images\"\n",
    "ROOT_DIR = os.path.abspath(\"./\")\n",
    "\n",
    "def test():\n",
    "    # Directory of images to run detection on\n",
    "    IMAGE_DIR = os.path.join(ROOT_DIR, IMAGE_PATH)\n",
    "    # Load a random image from the images folder\n",
    "    file_names = next(os.walk(IMAGE_DIR))[2]\n",
    "    file_name = random.choice(file_names)\n",
    "    image, r = detect(os.path.join(IMAGE_DIR, file_name))\n",
    "    print(\"--------------------------RESULT----------------------------------\")\n",
    "    print((\"Image:\",IMAGE_DIR,\"/\",file_name))\n",
    "    print((\"ROI:\", r['rois'].shape))\n",
    "    print((\"Masks:\", r['masks'].shape))\n",
    "    print((\"Class Ids:\",r['class_ids']))\n",
    "    print((\"Scores:\",r['scores']))\n",
    "    print(\"------------------------------------------------------------------\")\n",
    "    fsave(image, r, outfile=\"mask_\"+file_name)"
   ]
  },
  {
   "cell_type": "code",
   "execution_count": null,
   "metadata": {},
   "outputs": [],
   "source": [
    "\n",
    "test()\n",
    "\n"
   ]
  }
 ],
 "metadata": {
  "kernelspec": {
   "display_name": "Python 3",
   "language": "python",
   "name": "python3"
  },
  "language_info": {
   "codemirror_mode": {
    "name": "ipython",
    "version": 3
   },
   "file_extension": ".py",
   "mimetype": "text/x-python",
   "name": "python",
   "nbconvert_exporter": "python",
   "pygments_lexer": "ipython3",
   "version": "3.5.2"
  }
 },
 "nbformat": 4,
 "nbformat_minor": 2
}
